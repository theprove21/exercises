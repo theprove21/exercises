{
 "cells": [
  {
   "cell_type": "code",
   "execution_count": 74,
   "id": "303f4c00-5640-4b55-a43a-e396511ca804",
   "metadata": {},
   "outputs": [],
   "source": [
    "import torch\n",
    "import torch.nn as nn\n",
    "import torch.optim as optim\n",
    "from torch.utils.data import DataLoader\n",
    "from torchvision import transforms\n",
    "from sklearn.model_selection import train_test_split\n",
    "import numpy as np\n",
    "\n",
    "# epoch = one forward and backward pass of ALL training samples\n",
    "# batch_size = number of training samples used in one forward/backward pass\n",
    "# number of iterations = number of passes, each pass (forward+backward) using [batch_size] number of sampes\n",
    "# e.g : 100 samples, batch_size=20 -> 100/20=5 iterations for 1 epoch\n"
   ]
  },
  {
   "cell_type": "code",
   "execution_count": 77,
   "id": "e660ad84-e2f5-43d1-bb10-f20de3ca6529",
   "metadata": {},
   "outputs": [],
   "source": [
    "class DataSet():\n",
    "\n",
    "    def __init__(self):\n",
    "        \n",
    "        self.x_data = torch.rand(100,4,5,3)\n",
    "        y = np.random.randint(0, 4, 100)\n",
    "        self.y_data =torch.from_numpy(y).long()\n",
    "        self.n_samples = 100\n",
    "\n",
    "    # support indexing such that dataset[i] can be used to get i-th sample\n",
    "    def __getitem__(self, index):\n",
    "        return self.x_data[index], self.y_data[index]\n",
    "\n",
    "    # we can call len(dataset) to return the size\n",
    "    def __len__(self):\n",
    "        return self.n_samples"
   ]
  },
  {
   "cell_type": "code",
   "execution_count": null,
   "id": "0778aff4-521f-429d-b7d5-d54e78f70fe7",
   "metadata": {},
   "outputs": [],
   "source": [
    "class SimpleNN(nn.Module):\n",
    "    def __init__(self):\n",
    "        super(SimpleNN, self).__init__()\n",
    "        self.fc1 = nn.Linear(4 * 5 * 3, 10)\n",
    "        self.fc2 = nn.Linear(10, 10)\n",
    "        self.fc3 = nn.Linear(10, 10)\n",
    "        self.fc4 = nn.Linear(10, 4)\n",
    "\n",
    "    def forward(self, x):\n",
    "        x = x.view(-1, 4 * 5 * 3)\n",
    "        x = torch.relu(self.fc1(x))\n",
    "        x = torch.relu(self.fc2(x))\n",
    "        x = torch.relu(self.fc3(x))\n",
    "        x = self.fc4(x)\n",
    "        return x"
   ]
  },
  {
   "cell_type": "code",
   "execution_count": 78,
   "id": "465e010e-84fe-45ea-bd3e-00d8f2a268bf",
   "metadata": {},
   "outputs": [],
   "source": [
    "dataset = DataSet()"
   ]
  },
  {
   "cell_type": "code",
   "execution_count": 79,
   "id": "e32edacd-0c11-40a2-8d0e-6c51c8913430",
   "metadata": {},
   "outputs": [],
   "source": [
    "# Split the dataset into training, validation, and test sets\n",
    "train_data, test_data = train_test_split(dataset, test_size=0.1, random_state=42)\n"
   ]
  },
  {
   "cell_type": "code",
   "execution_count": 80,
   "id": "23d6e07d-b78d-4c8a-8ee2-0ed57b034765",
   "metadata": {},
   "outputs": [],
   "source": [
    "# Create DataLoaders\n",
    "train_loader = DataLoader(train_data, batch_size=10, shuffle=True)\n",
    "test_loader = DataLoader(test_data, batch_size=10, shuffle=True)\n"
   ]
  },
  {
   "cell_type": "code",
   "execution_count": 81,
   "id": "aac6ec03-c03a-4dd6-976b-f6a780222d40",
   "metadata": {},
   "outputs": [],
   "source": [
    "# Define the model, loss function, and optimizer\n",
    "model = SimpleNN()\n",
    "criterion = nn.CrossEntropyLoss()\n",
    "optimizer = optim.Adam(model.parameters(), lr=0.001)"
   ]
  },
  {
   "cell_type": "code",
   "execution_count": 85,
   "id": "f086f8df-98f2-49fd-9ba5-f1c765c46eca",
   "metadata": {},
   "outputs": [
    {
     "name": "stdout",
     "output_type": "stream",
     "text": [
      "Epoch [1/2], Step [1/9], Loss: 1.3774\n",
      "Epoch [1/2], Step [2/9], Loss: 1.3963\n",
      "Epoch [1/2], Step [3/9], Loss: 1.4041\n",
      "Epoch [1/2], Step [4/9], Loss: 1.3912\n",
      "Epoch [1/2], Step [5/9], Loss: 1.3815\n",
      "Epoch [1/2], Step [6/9], Loss: 1.4039\n",
      "Epoch [1/2], Step [7/9], Loss: 1.3725\n",
      "Epoch [1/2], Step [8/9], Loss: 1.3968\n",
      "Epoch [1/2], Step [9/9], Loss: 1.3855\n",
      "Epoch [2/2], Step [1/9], Loss: 1.3887\n",
      "Epoch [2/2], Step [2/9], Loss: 1.3893\n",
      "Epoch [2/2], Step [3/9], Loss: 1.3955\n",
      "Epoch [2/2], Step [4/9], Loss: 1.3886\n",
      "Epoch [2/2], Step [5/9], Loss: 1.3836\n",
      "Epoch [2/2], Step [6/9], Loss: 1.3841\n",
      "Epoch [2/2], Step [7/9], Loss: 1.3911\n",
      "Epoch [2/2], Step [8/9], Loss: 1.3837\n",
      "Epoch [2/2], Step [9/9], Loss: 1.3874\n"
     ]
    }
   ],
   "source": [
    "# Train the model\n",
    "n_total_steps = len(train_loader)\n",
    "for epoch in range(2):\n",
    "    for i, (images, labels) in enumerate(train_loader):\n",
    "        \n",
    "        # Forward pass\n",
    "        outputs = model(images)\n",
    "        loss = criterion(outputs, labels)\n",
    "        # Backward and optimize\n",
    "        optimizer.zero_grad()\n",
    "        loss.backward()\n",
    "        optimizer.step()\n",
    "        \n",
    "        print (f'Epoch [{epoch+1}/{2}], Step [{i+1}/{n_total_steps}], Loss: {loss.item():.4f}')\n"
   ]
  },
  {
   "cell_type": "code",
   "execution_count": 89,
   "id": "bfb0da54-abd4-4a78-a843-3aa8675a82d3",
   "metadata": {},
   "outputs": [
    {
     "name": "stdout",
     "output_type": "stream",
     "text": [
      "Accuracy: 50.0 %\n"
     ]
    }
   ],
   "source": [
    "# Test the model\n",
    "# In test phase, we don't need to compute gradients (for memory efficiency)\n",
    "with torch.no_grad():\n",
    "    n_correct = 0\n",
    "    n_samples = 0\n",
    "    for images, labels in test_loader:\n",
    "        outputs = model(images)\n",
    "        # max returns (value ,index)\n",
    "        _, predicted = torch.max(outputs.data, 1)\n",
    "        n_samples += labels.size(0)\n",
    "        n_correct += (predicted == labels).sum().item()\n",
    "\n",
    "    acc = 100.0 * n_correct / n_samples\n",
    "    print(f'Accuracy: {acc} %')"
   ]
  },
  {
   "cell_type": "code",
   "execution_count": null,
   "id": "702bf6af-7eec-4378-a81a-23384d2b4f1f",
   "metadata": {},
   "outputs": [],
   "source": []
  }
 ],
 "metadata": {
  "kernelspec": {
   "display_name": "Python 3 (ipykernel)",
   "language": "python",
   "name": "python3"
  },
  "language_info": {
   "codemirror_mode": {
    "name": "ipython",
    "version": 3
   },
   "file_extension": ".py",
   "mimetype": "text/x-python",
   "name": "python",
   "nbconvert_exporter": "python",
   "pygments_lexer": "ipython3",
   "version": "3.10.6"
  }
 },
 "nbformat": 4,
 "nbformat_minor": 5
}
